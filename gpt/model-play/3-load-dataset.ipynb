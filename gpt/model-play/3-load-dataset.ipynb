{
 "cells": [
  {
   "cell_type": "code",
   "execution_count": 2,
   "metadata": {},
   "outputs": [
    {
     "name": "stdout",
     "output_type": "stream",
     "text": [
      "   40000  202651 1115394 input.txt\n"
     ]
    }
   ],
   "source": [
    "# tiny shakespeare dataset\n",
    "\n",
    "# !wget https://raw.githubusercontent.com/karpathy/char-rnn/master/data/tinyshakespeare/input.txt\n",
    "with open(\"input.txt\", \"r\") as f:\n",
    "    text = f.read()\n",
    "data = text[:1000]  # first 1,000 characters (gpt-2 ~3:1 compression -> ~300 tokens)\n",
    "# stats: ~ 40k lines, 200k words, 1 million bytes (ascii-only so same char count)\n",
    "!wc input.txt\n",
    "\n",
    "# Tokenize\n",
    "import tiktoken\n",
    "\n",
    "enc = tiktoken.get_encoding(\"gpt2\")\n",
    "tokens = enc.encode(data)"
   ]
  },
  {
   "cell_type": "code",
   "execution_count": 3,
   "metadata": {},
   "outputs": [
    {
     "name": "stdout",
     "output_type": "stream",
     "text": [
      "tensor([[ 5962, 22307,    25,   198,  8421,   356,  5120,   597,  2252,    11,\n",
      "          3285,   502,  2740,    13,   198,   198,  3237,    25,   198,  5248,\n",
      "           461,    11,  2740,    13,   198,   198,  5962, 22307,    25,   198,\n",
      "          1639,   389],\n",
      "        [  477, 12939,  2138,   284,  4656,   621,   284,  1145,   680,    30,\n",
      "           198,   198,  3237,    25,   198,  4965,  5634,    13, 12939,    13,\n",
      "           198,   198,  5962, 22307,    25,   198,  5962,    11,   345,   760,\n",
      "           327,  1872],\n",
      "        [  385,  1526, 28599,   318,  4039,  4472,   284,   262,   661,    13,\n",
      "           198,   198,  3237,    25,   198,  1135,   760,   470,    11,   356,\n",
      "           760,   470,    13,   198,   198,  5962, 22307,    25,   198,  5756,\n",
      "           514,  1494],\n",
      "        [  683,    11,   290,   356,  1183,   423, 11676,   379,   674,   898,\n",
      "          2756,    13,   198,  3792,   470,   257, 15593,    30,   198,   198,\n",
      "          3237,    25,   198,  2949,   517,  3375,   319,   470,    26,  1309,\n",
      "           340,   307]])\n",
      "tensor([[22307,    25,   198,  8421,   356,  5120,   597,  2252,    11,  3285,\n",
      "           502,  2740,    13,   198,   198,  3237,    25,   198,  5248,   461,\n",
      "            11,  2740,    13,   198,   198,  5962, 22307,    25,   198,  1639,\n",
      "           389,   477],\n",
      "        [12939,  2138,   284,  4656,   621,   284,  1145,   680,    30,   198,\n",
      "           198,  3237,    25,   198,  4965,  5634,    13, 12939,    13,   198,\n",
      "           198,  5962, 22307,    25,   198,  5962,    11,   345,   760,   327,\n",
      "          1872,   385],\n",
      "        [ 1526, 28599,   318,  4039,  4472,   284,   262,   661,    13,   198,\n",
      "           198,  3237,    25,   198,  1135,   760,   470,    11,   356,   760,\n",
      "           470,    13,   198,   198,  5962, 22307,    25,   198,  5756,   514,\n",
      "          1494,   683],\n",
      "        [   11,   290,   356,  1183,   423, 11676,   379,   674,   898,  2756,\n",
      "            13,   198,  3792,   470,   257, 15593,    30,   198,   198,  3237,\n",
      "            25,   198,  2949,   517,  3375,   319,   470,    26,  1309,   340,\n",
      "           307,  1760]])\n"
     ]
    }
   ],
   "source": [
    "# data loading: form a batch B of T tokens and corresponding targets\n",
    "\n",
    "B, T = 4, 32\n",
    "\n",
    "import torch\n",
    "\n",
    "buf = torch.tensor(tokens[: B * T + 1])\n",
    "x = buf[:-1].view(B, T)\n",
    "y = buf[1:].view(B, T)\n",
    "print(x)\n",
    "print(y)"
   ]
  }
 ],
 "metadata": {
  "kernelspec": {
   "display_name": "base",
   "language": "python",
   "name": "python3"
  },
  "language_info": {
   "codemirror_mode": {
    "name": "ipython",
    "version": 3
   },
   "file_extension": ".py",
   "mimetype": "text/x-python",
   "name": "python",
   "nbconvert_exporter": "python",
   "pygments_lexer": "ipython3",
   "version": "3.12.3"
  }
 },
 "nbformat": 4,
 "nbformat_minor": 2
}
